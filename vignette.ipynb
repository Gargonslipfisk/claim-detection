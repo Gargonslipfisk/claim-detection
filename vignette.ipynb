{
  "nbformat": 4,
  "nbformat_minor": 0,
  "metadata": {
    "colab": {
      "name": "vignette.ipynb",
      "provenance": [],
      "collapsed_sections": [],
      "toc_visible": true
    },
    "kernelspec": {
      "name": "python3",
      "display_name": "Python 3"
    },
    "language_info": {
      "name": "python"
    },
    "accelerator": "GPU"
  },
  "cells": [
    {
      "cell_type": "code",
      "metadata": {
        "colab": {
          "base_uri": "https://localhost:8080/"
        },
        "id": "P9-l-NhJfDf6",
        "outputId": "3dd98f8d-672b-417c-a39b-8567357bf74f"
      },
      "source": [
        "#después de instalar reiniciar el entorno de ejecución desde: Runtime > Restart runtime...\n",
        "!python -m spacy download es_core_news_md\n",
        "!pip install bert-for-tf2"
      ],
      "execution_count": 1,
      "outputs": [
        {
          "output_type": "stream",
          "text": [
            "Collecting es_core_news_md==2.2.5\n",
            "\u001b[?25l  Downloading https://github.com/explosion/spacy-models/releases/download/es_core_news_md-2.2.5/es_core_news_md-2.2.5.tar.gz (78.4MB)\n",
            "\u001b[K     |████████████████████████████████| 78.4MB 1.2MB/s \n",
            "\u001b[?25hRequirement already satisfied: spacy>=2.2.2 in /usr/local/lib/python3.7/dist-packages (from es_core_news_md==2.2.5) (2.2.4)\n",
            "Requirement already satisfied: wasabi<1.1.0,>=0.4.0 in /usr/local/lib/python3.7/dist-packages (from spacy>=2.2.2->es_core_news_md==2.2.5) (0.8.2)\n",
            "Requirement already satisfied: requests<3.0.0,>=2.13.0 in /usr/local/lib/python3.7/dist-packages (from spacy>=2.2.2->es_core_news_md==2.2.5) (2.23.0)\n",
            "Requirement already satisfied: preshed<3.1.0,>=3.0.2 in /usr/local/lib/python3.7/dist-packages (from spacy>=2.2.2->es_core_news_md==2.2.5) (3.0.5)\n",
            "Requirement already satisfied: setuptools in /usr/local/lib/python3.7/dist-packages (from spacy>=2.2.2->es_core_news_md==2.2.5) (54.2.0)\n",
            "Requirement already satisfied: thinc==7.4.0 in /usr/local/lib/python3.7/dist-packages (from spacy>=2.2.2->es_core_news_md==2.2.5) (7.4.0)\n",
            "Requirement already satisfied: catalogue<1.1.0,>=0.0.7 in /usr/local/lib/python3.7/dist-packages (from spacy>=2.2.2->es_core_news_md==2.2.5) (1.0.0)\n",
            "Requirement already satisfied: murmurhash<1.1.0,>=0.28.0 in /usr/local/lib/python3.7/dist-packages (from spacy>=2.2.2->es_core_news_md==2.2.5) (1.0.5)\n",
            "Requirement already satisfied: srsly<1.1.0,>=1.0.2 in /usr/local/lib/python3.7/dist-packages (from spacy>=2.2.2->es_core_news_md==2.2.5) (1.0.5)\n",
            "Requirement already satisfied: numpy>=1.15.0 in /usr/local/lib/python3.7/dist-packages (from spacy>=2.2.2->es_core_news_md==2.2.5) (1.19.5)\n",
            "Requirement already satisfied: blis<0.5.0,>=0.4.0 in /usr/local/lib/python3.7/dist-packages (from spacy>=2.2.2->es_core_news_md==2.2.5) (0.4.1)\n",
            "Requirement already satisfied: plac<1.2.0,>=0.9.6 in /usr/local/lib/python3.7/dist-packages (from spacy>=2.2.2->es_core_news_md==2.2.5) (1.1.3)\n",
            "Requirement already satisfied: tqdm<5.0.0,>=4.38.0 in /usr/local/lib/python3.7/dist-packages (from spacy>=2.2.2->es_core_news_md==2.2.5) (4.41.1)\n",
            "Requirement already satisfied: cymem<2.1.0,>=2.0.2 in /usr/local/lib/python3.7/dist-packages (from spacy>=2.2.2->es_core_news_md==2.2.5) (2.0.5)\n",
            "Requirement already satisfied: urllib3!=1.25.0,!=1.25.1,<1.26,>=1.21.1 in /usr/local/lib/python3.7/dist-packages (from requests<3.0.0,>=2.13.0->spacy>=2.2.2->es_core_news_md==2.2.5) (1.24.3)\n",
            "Requirement already satisfied: certifi>=2017.4.17 in /usr/local/lib/python3.7/dist-packages (from requests<3.0.0,>=2.13.0->spacy>=2.2.2->es_core_news_md==2.2.5) (2020.12.5)\n",
            "Requirement already satisfied: chardet<4,>=3.0.2 in /usr/local/lib/python3.7/dist-packages (from requests<3.0.0,>=2.13.0->spacy>=2.2.2->es_core_news_md==2.2.5) (3.0.4)\n",
            "Requirement already satisfied: idna<3,>=2.5 in /usr/local/lib/python3.7/dist-packages (from requests<3.0.0,>=2.13.0->spacy>=2.2.2->es_core_news_md==2.2.5) (2.10)\n",
            "Requirement already satisfied: importlib-metadata>=0.20; python_version < \"3.8\" in /usr/local/lib/python3.7/dist-packages (from catalogue<1.1.0,>=0.0.7->spacy>=2.2.2->es_core_news_md==2.2.5) (3.10.0)\n",
            "Requirement already satisfied: zipp>=0.5 in /usr/local/lib/python3.7/dist-packages (from importlib-metadata>=0.20; python_version < \"3.8\"->catalogue<1.1.0,>=0.0.7->spacy>=2.2.2->es_core_news_md==2.2.5) (3.4.1)\n",
            "Requirement already satisfied: typing-extensions>=3.6.4; python_version < \"3.8\" in /usr/local/lib/python3.7/dist-packages (from importlib-metadata>=0.20; python_version < \"3.8\"->catalogue<1.1.0,>=0.0.7->spacy>=2.2.2->es_core_news_md==2.2.5) (3.7.4.3)\n",
            "Building wheels for collected packages: es-core-news-md\n",
            "  Building wheel for es-core-news-md (setup.py) ... \u001b[?25l\u001b[?25hdone\n",
            "  Created wheel for es-core-news-md: filename=es_core_news_md-2.2.5-cp37-none-any.whl size=79649482 sha256=1f051dafbb450f29a8a2df4fbc5acd13daa9e70b6ff0716eab1a140e0b9de78f\n",
            "  Stored in directory: /tmp/pip-ephem-wheel-cache-res2yzwy/wheels/b7/bb/a3/29ab5cf80c2c0a8fa0f2af8402fdace3f159e8265f0fdcbcdb\n",
            "Successfully built es-core-news-md\n",
            "Installing collected packages: es-core-news-md\n",
            "Successfully installed es-core-news-md-2.2.5\n",
            "\u001b[38;5;2m✔ Download and installation successful\u001b[0m\n",
            "You can now load the model via spacy.load('es_core_news_md')\n",
            "Collecting bert-for-tf2\n",
            "\u001b[?25l  Downloading https://files.pythonhosted.org/packages/a5/a1/acb891630749c56901e770a34d6bac8a509a367dd74a05daf7306952e910/bert-for-tf2-0.14.9.tar.gz (41kB)\n",
            "\u001b[K     |████████████████████████████████| 51kB 2.5MB/s \n",
            "\u001b[?25hCollecting py-params>=0.9.6\n",
            "  Downloading https://files.pythonhosted.org/packages/aa/e0/4f663d8abf83c8084b75b995bd2ab3a9512ebc5b97206fde38cef906ab07/py-params-0.10.2.tar.gz\n",
            "Collecting params-flow>=0.8.0\n",
            "  Downloading https://files.pythonhosted.org/packages/a9/95/ff49f5ebd501f142a6f0aaf42bcfd1c192dc54909d1d9eb84ab031d46056/params-flow-0.8.2.tar.gz\n",
            "Requirement already satisfied: numpy in /usr/local/lib/python3.7/dist-packages (from params-flow>=0.8.0->bert-for-tf2) (1.19.5)\n",
            "Requirement already satisfied: tqdm in /usr/local/lib/python3.7/dist-packages (from params-flow>=0.8.0->bert-for-tf2) (4.41.1)\n",
            "Building wheels for collected packages: bert-for-tf2, py-params, params-flow\n",
            "  Building wheel for bert-for-tf2 (setup.py) ... \u001b[?25l\u001b[?25hdone\n",
            "  Created wheel for bert-for-tf2: filename=bert_for_tf2-0.14.9-cp37-none-any.whl size=30535 sha256=cf2245181b48d8aa0794178506c3f4d023794e8740bbef02c32432ec96781153\n",
            "  Stored in directory: /root/.cache/pip/wheels/a1/04/ee/347bd9f5b821b637c76411d280271a857aece00358896a230f\n",
            "  Building wheel for py-params (setup.py) ... \u001b[?25l\u001b[?25hdone\n",
            "  Created wheel for py-params: filename=py_params-0.10.2-cp37-none-any.whl size=7912 sha256=01f97a6226c5f592b8dc37cea9eb63c4dd37ab297b1d599e0e1273a6b607f70a\n",
            "  Stored in directory: /root/.cache/pip/wheels/d0/4a/70/ff12450229ff1955abf01f365051d4faae1c20aef53ab4cf09\n",
            "  Building wheel for params-flow (setup.py) ... \u001b[?25l\u001b[?25hdone\n",
            "  Created wheel for params-flow: filename=params_flow-0.8.2-cp37-none-any.whl size=19472 sha256=edfe47557e074bd622b8b312580d375fe304b03f81d90bab3dea0a6c8c933793\n",
            "  Stored in directory: /root/.cache/pip/wheels/08/c8/7f/81c86b9ff2b86e2c477e3914175be03e679e596067dc630c06\n",
            "Successfully built bert-for-tf2 py-params params-flow\n",
            "Installing collected packages: py-params, params-flow, bert-for-tf2\n",
            "Successfully installed bert-for-tf2-0.14.9 params-flow-0.8.2 py-params-0.10.2\n"
          ],
          "name": "stdout"
        }
      ]
    },
    {
      "cell_type": "code",
      "metadata": {
        "id": "tZePfIdAJziG"
      },
      "source": [
        "from google.colab import drive\n",
        "import os\n",
        "import sys\n",
        "import bson\n",
        "import math \n",
        "\n",
        "#import chardet\n",
        "import pandas as pd\n",
        "import numpy as np\n",
        "\n",
        "from sklearn.model_selection import train_test_split\n",
        "from sklearn.metrics import confusion_matrix"
      ],
      "execution_count": 82,
      "outputs": []
    },
    {
      "cell_type": "markdown",
      "metadata": {
        "id": "YBdtkUXZKmin"
      },
      "source": [
        "##0 - Preparación del entorno de trabajo \n",
        "\n"
      ]
    },
    {
      "cell_type": "code",
      "metadata": {
        "colab": {
          "base_uri": "https://localhost:8080/"
        },
        "id": "yp5VVvvsK8qb",
        "outputId": "fab01135-1c2a-45bb-e781-0db873a9d5c0"
      },
      "source": [
        "#Importante disponer de información de versionado\n",
        "print(sys.version_info)"
      ],
      "execution_count": 2,
      "outputs": [
        {
          "output_type": "stream",
          "text": [
            "sys.version_info(major=3, minor=7, micro=10, releaselevel='final', serial=0)\n"
          ],
          "name": "stdout"
        }
      ]
    },
    {
      "cell_type": "code",
      "metadata": {
        "colab": {
          "base_uri": "https://localhost:8080/"
        },
        "id": "WGUpWNl4HwIs",
        "outputId": "4e54486f-2bb7-4f2f-da41-f07aac179b97"
      },
      "source": [
        "#Montamos nuestro Google Drive como unidad de almacenamiento\n",
        "drive.mount(\"/content/drive\")"
      ],
      "execution_count": 3,
      "outputs": [
        {
          "output_type": "stream",
          "text": [
            "Mounted at /content/drive\n"
          ],
          "name": "stdout"
        }
      ]
    },
    {
      "cell_type": "code",
      "metadata": {
        "id": "JF3lL-TfI-L-"
      },
      "source": [
        "#Creamos el directorio específico y nos situamos en él\n",
        "directory = 'newtral'\n",
        "!mkdir -p /content/drive/My\\ Drive/$directory\n",
        "path = F\"/content/drive/My Drive/{directory}\" \n",
        "os.chdir(path)"
      ],
      "execution_count": 4,
      "outputs": []
    },
    {
      "cell_type": "code",
      "metadata": {
        "colab": {
          "base_uri": "https://localhost:8080/"
        },
        "id": "R6glvZpAQXg_",
        "outputId": "ebbc8e2b-a6ef-47e6-c420-c6c9640c3f42"
      },
      "source": [
        "#Clonamos repo\n",
        "!git clone https://github.com/Gargonslipfisk/claim_detection.git"
      ],
      "execution_count": 146,
      "outputs": [
        {
          "output_type": "stream",
          "text": [
            "Cloning into 'claim-detection'...\n",
            "remote: Enumerating objects: 4, done.\u001b[K\n",
            "remote: Counting objects: 100% (4/4), done.\u001b[K\n",
            "remote: Compressing objects: 100% (3/3), done.\u001b[K\n",
            "remote: Total 4 (delta 0), reused 0 (delta 0), pack-reused 0\u001b[K\n",
            "Unpacking objects: 100% (4/4), done.\n"
          ],
          "name": "stdout"
        }
      ]
    },
    {
      "cell_type": "code",
      "metadata": {
        "id": "DosZto42fzkt"
      },
      "source": [
        "from claim_detection.src.utils.entities import decorated_extract_entity_es\n",
        "from claim_detection.src.utils.asso_metrics import cramers_corrected_stat\n",
        "from claim_detection.src.utils.viz import hist_lbl_col\n",
        "from claim_detection.src.bert_model import ClaimDetection"
      ],
      "execution_count": 5,
      "outputs": []
    },
    {
      "cell_type": "markdown",
      "metadata": {
        "id": "lbyz41oHKuBw"
      },
      "source": [
        "##1 - Datos"
      ]
    },
    {
      "cell_type": "markdown",
      "metadata": {
        "id": "3RnIJROBg7nr"
      },
      "source": [
        "###Descarga y lectura"
      ]
    },
    {
      "cell_type": "code",
      "metadata": {
        "colab": {
          "base_uri": "https://localhost:8080/"
        },
        "id": "MRUPjpfuIqF-",
        "outputId": "a862ef97-1c3d-4990-b386-9da123f30eed"
      },
      "source": [
        "#Descargamos los datos construyendo la url a partir de la información facilitada\n",
        "#!wget https://ml-coding-test.s3-eu-west-1.amazonaws.com/claims.bson"
      ],
      "execution_count": 7,
      "outputs": [
        {
          "output_type": "stream",
          "text": [
            "--2021-04-15 17:08:16--  https://ml-coding-test.s3-eu-west-1.amazonaws.com/claims.bson\n",
            "Resolving ml-coding-test.s3-eu-west-1.amazonaws.com (ml-coding-test.s3-eu-west-1.amazonaws.com)... 52.218.26.56\n",
            "Connecting to ml-coding-test.s3-eu-west-1.amazonaws.com (ml-coding-test.s3-eu-west-1.amazonaws.com)|52.218.26.56|:443... connected.\n",
            "HTTP request sent, awaiting response... 200 OK\n",
            "Length: 5735425 (5.5M) [binary/octet-stream]\n",
            "Saving to: ‘claims.bson.1’\n",
            "\n",
            "claims.bson.1       100%[===================>]   5.47M  6.71MB/s    in 0.8s    \n",
            "\n",
            "2021-04-15 17:08:18 (6.71 MB/s) - ‘claims.bson.1’ saved [5735425/5735425]\n",
            "\n"
          ],
          "name": "stdout"
        }
      ]
    },
    {
      "cell_type": "code",
      "metadata": {
        "id": "jrDlRzsLJNDk"
      },
      "source": [
        "#Lectura de los datos\n",
        "with open('claims.bson','rb') as f:\n",
        "    data = bson.decode_all(f.read())"
      ],
      "execution_count": 6,
      "outputs": []
    },
    {
      "cell_type": "code",
      "metadata": {
        "id": "TJE74AprLV8Y"
      },
      "source": [
        "#Convertimos a formato tabular para facilitar la manipulación de ls datos\n",
        "df = pd.DataFrame(data)\n",
        "\n",
        "df['text_es'] = df['text_es'].astype('str') "
      ],
      "execution_count": 7,
      "outputs": []
    },
    {
      "cell_type": "markdown",
      "metadata": {
        "id": "yZkVlp98hBkD"
      },
      "source": [
        "###Limpieza y calidad"
      ]
    },
    {
      "cell_type": "code",
      "metadata": {
        "colab": {
          "base_uri": "https://localhost:8080/"
        },
        "id": "OcJUlatfNcG_",
        "outputId": "6ae4b3b2-b318-434d-c0d3-c7725f0e18e2"
      },
      "source": [
        "#Confirmamos la integridad de los datos\n",
        "if df[df.duplicated(['text_es']) & np.logical_not(df.duplicated(['claim']))].shape[0]:\n",
        "  raise Exception('Existen textos duplicados para diferentes valores de target')\n",
        "elif df['text_es'].str.isalpha().sum():\n",
        "  raise Exception('Existen celdas no alfanuméricas para el campo text_es')\n",
        "elif sum(df.isna().sum()):\n",
        "  raise Exception('Existen valores ausentes')\n",
        "else:\n",
        "  print(\"no se ha encontrado ningún problema\")"
      ],
      "execution_count": 8,
      "outputs": [
        {
          "output_type": "stream",
          "text": [
            "no se ha encontrado ningún problema\n"
          ],
          "name": "stdout"
        }
      ]
    },
    {
      "cell_type": "code",
      "metadata": {
        "id": "RB_7s_OnVPIJ"
      },
      "source": [
        "#Eliminamos valores duplicados\n",
        "df = df.drop_duplicates(['text_es'], ignore_index=True)"
      ],
      "execution_count": 9,
      "outputs": []
    },
    {
      "cell_type": "code",
      "metadata": {
        "colab": {
          "base_uri": "https://localhost:8080/"
        },
        "id": "LdsH6KwtMyNS",
        "outputId": "f28e8fbb-5054-4fac-f1d1-36a1a04d85b1"
      },
      "source": [
        "#Al tratarse de un problema binario nos interesará conocer el desbalanceo para aplicar posibles bias al modelo\n",
        "df['claim'].value_counts(normalize=True)"
      ],
      "execution_count": 10,
      "outputs": [
        {
          "output_type": "execute_result",
          "data": {
            "text/plain": [
              "0    0.928242\n",
              "1    0.071758\n",
              "Name: claim, dtype: float64"
            ]
          },
          "metadata": {
            "tags": []
          },
          "execution_count": 10
        }
      ]
    },
    {
      "cell_type": "code",
      "metadata": {
        "id": "AnJMOrxLVS23"
      },
      "source": [
        "#Limpieza básica de texto\n",
        "df.loc[:, 'text_es'] = df['text_es'].str.strip()\n",
        "df.loc[:, 'text_es'] = df['text_es'].str.lower()\n",
        "df.loc[:, 'text_es'] = df['text_es'].str.replace(r'[^A-aZ-z0-9 ]', '')"
      ],
      "execution_count": 11,
      "outputs": []
    },
    {
      "cell_type": "markdown",
      "metadata": {
        "id": "Gcpwirn7hO2p"
      },
      "source": [
        "####Chequeos básicos para descartar sesgos que puedan envenenar el modelo\n"
      ]
    },
    {
      "cell_type": "markdown",
      "metadata": {
        "id": "RhfkfD6UhWhm"
      },
      "source": [
        "#####Longitud del texto"
      ]
    },
    {
      "cell_type": "code",
      "metadata": {
        "colab": {
          "base_uri": "https://localhost:8080/",
          "height": 499
        },
        "id": "lDZrGL2XVsaq",
        "outputId": "891a95b4-02c6-40e0-8b66-7c2196499f36"
      },
      "source": [
        "#Distribución entre el número de caracteres del texto y su target\n",
        "df.loc[:, 'len'] = df['text_es'].apply(lambda x: len(x))\n",
        "\n",
        "hist_lbl_col(df, 'claim', 'len')"
      ],
      "execution_count": 12,
      "outputs": [
        {
          "output_type": "display_data",
          "data": {
            "image/png": "[encoded data removed]",
            "text/plain": [
              "<Figure size 1152x576 with 1 Axes>"
            ]
          },
          "metadata": {
            "tags": [],
            "needs_background": "light"
          }
        }
      ]
    },
    {
      "cell_type": "code",
      "metadata": {
        "colab": {
          "base_uri": "https://localhost:8080/"
        },
        "id": "nDloqpBVddup",
        "outputId": "0066d66f-0f68-42c1-fc9a-80d296439a72"
      },
      "source": [
        "#Podemos confirmar que existe una desviación en las medias de forma que a mayor número de caracteres mayor probabilidad de ser claim (con tabulate se vería mejor)\n",
        "print(\n",
        "    '\\t', 'promedio nº caracteres', '\\t', 'desviación estandar', '\\n'\n",
        "    'claim   ', '\\t', np.mean(df[df['claim'] == 1]['len']), '\\t', np.std(df[df['claim'] == 1]['len']), '\\n'\n",
        "    'no-claim', '\\t', np.mean(df[df['claim'] == 0]['len']), '\\t', np.std(df[df['claim'] == 0]['len'])\n",
        ")"
      ],
      "execution_count": 13,
      "outputs": [
        {
          "output_type": "stream",
          "text": [
            "\t promedio nº caracteres \t desviación estandar \n",
            "claim    \t 152.41507537688443 \t 84.89671865307659 \n",
            "no-claim \t 100.24186154921918 \t 81.40682081434487\n"
          ],
          "name": "stdout"
        }
      ]
    },
    {
      "cell_type": "code",
      "metadata": {
        "id": "8_DnZCRXaPzn"
      },
      "source": [
        "#A tenor de que las no-claim tienen una mayor tendencia a emplear menos caracteres vamos a eliminar aquellas que tengan menos de dos espacios\n",
        "df = df[df['text_es'].str.count('\\s') >= 2]"
      ],
      "execution_count": 14,
      "outputs": []
    },
    {
      "cell_type": "markdown",
      "metadata": {
        "id": "9PIukdIYhalv"
      },
      "source": [
        "#####Entidades"
      ]
    },
    {
      "cell_type": "code",
      "metadata": {
        "id": "Pf1kUXvZd9qz"
      },
      "source": [
        "#Es bastante lento. El propósito es marcar aquellas utterances que contengan una entidad\n",
        "%%time\n",
        "df.loc[:, ['entidad', 'lista_entidades']] = list(df['text_es'].apply(lambda x: decorated_extract_entity_es(x)))"
      ],
      "execution_count": 15,
      "outputs": []
    },
    {
      "cell_type": "code",
      "metadata": {
        "id": "8rmm8TOUhl3v"
      },
      "source": [
        "#Salvamos resultados intermedios\n",
        "df.to_csv('df.tsv', sep='\\u0001', index=False)\n",
        "#df = pd.read_csv('df.tsv', sep='\\u0001')"
      ],
      "execution_count": 20,
      "outputs": []
    },
    {
      "cell_type": "code",
      "metadata": {
        "colab": {
          "base_uri": "https://localhost:8080/"
        },
        "id": "PEkES-zAlvKf",
        "outputId": "963de7bf-28db-4b24-add4-96e12192eba6"
      },
      "source": [
        "#Comprobamos mediante reglas de asociación la fuerza de la relación entre la aparición de entidades y el ser claim\n",
        "#Puesto que es una relación débil no procede hacer nada más\n",
        "cm = pd.crosstab(df['claim'], df['entidad'])\n",
        "cramers_corrected_stat(cm)"
      ],
      "execution_count": 22,
      "outputs": [
        {
          "output_type": "execute_result",
          "data": {
            "text/plain": [
              "0.14752434203268125"
            ]
          },
          "metadata": {
            "tags": []
          },
          "execution_count": 22
        }
      ]
    },
    {
      "cell_type": "markdown",
      "metadata": {
        "id": "Mlfu-9NKnlAR"
      },
      "source": [
        "##2 - Modelado baseline"
      ]
    },
    {
      "cell_type": "code",
      "metadata": {
        "colab": {
          "base_uri": "https://localhost:8080/"
        },
        "id": "XdPCDnXdy_JZ",
        "outputId": "8f72c319-fa4a-412a-9e59-226e6e89923d"
      },
      "source": [
        "#Descarga modelo multi 12 layers, 768 hidden y \n",
        "!wget https://storage.googleapis.com/bert_models/2018_11_23/multi_cased_L-12_H-768_A-12.zip"
      ],
      "execution_count": 57,
      "outputs": [
        {
          "output_type": "stream",
          "text": [
            "--2021-04-15 18:32:06--  https://storage.googleapis.com/bert_models/2018_11_23/multi_cased_L-12_H-768_A-12.zip\n",
            "Resolving storage.googleapis.com (storage.googleapis.com)... 74.125.23.128, 74.125.204.128, 64.233.188.128, ...\n",
            "Connecting to storage.googleapis.com (storage.googleapis.com)|74.125.23.128|:443... connected.\n",
            "HTTP request sent, awaiting response... 200 OK\n",
            "Length: 662903077 (632M) [application/zip]\n",
            "Saving to: ‘multi_cased_L-12_H-768_A-12.zip’\n",
            "\n",
            "multi_cased_L-12_H- 100%[===================>] 632.19M  34.1MB/s    in 19s     \n",
            "\n",
            "2021-04-15 18:32:26 (34.1 MB/s) - ‘multi_cased_L-12_H-768_A-12.zip’ saved [662903077/662903077]\n",
            "\n"
          ],
          "name": "stdout"
        }
      ]
    },
    {
      "cell_type": "code",
      "metadata": {
        "colab": {
          "base_uri": "https://localhost:8080/"
        },
        "id": "kEsrrpnizoTp",
        "outputId": "3673935b-3840-4762-a602-6421c2b11f88"
      },
      "source": [
        "!unzip multi_cased_L-12_H-768_A-12.zip"
      ],
      "execution_count": 60,
      "outputs": [
        {
          "output_type": "stream",
          "text": [
            "Archive:  modelo/multi_cased_L-12_H-768_A-12.zip\n",
            "   creating: multi_cased_L-12_H-768_A-12/\n",
            "  inflating: multi_cased_L-12_H-768_A-12/bert_model.ckpt.meta  \n",
            "  inflating: multi_cased_L-12_H-768_A-12/bert_model.ckpt.data-00000-of-00001  \n",
            "  inflating: multi_cased_L-12_H-768_A-12/vocab.txt  \n",
            "  inflating: multi_cased_L-12_H-768_A-12/bert_model.ckpt.index  \n",
            "  inflating: multi_cased_L-12_H-768_A-12/bert_config.json  \n"
          ],
          "name": "stdout"
        }
      ]
    },
    {
      "cell_type": "code",
      "metadata": {
        "id": "9V12wWRwyr9A"
      },
      "source": [
        "bert_ckpt_file = os.path.join(os.getcwd(), 'multi_cased_L-12_H-768_A-12', \"bert_model.ckpt\")\n",
        "bert_config_file = os.path.join(os.getcwd(), 'multi_cased_L-12_H-768_A-12',\"bert_config.json\")"
      ],
      "execution_count": 78,
      "outputs": []
    },
    {
      "cell_type": "code",
      "metadata": {
        "colab": {
          "base_uri": "https://localhost:8080/"
        },
        "id": "3JU3KbqK0jI2",
        "outputId": "e6056c78-721f-41cc-9c6b-cc67dd207bdb"
      },
      "source": [
        "#tokenization\n",
        "tokenizer = FullTokenizer(vocab_file=os.path.join(bert_ckpt_dir, \"vocab.txt\"))\n",
        "max_seq_len = 150 #número arbitrario\n",
        "\n",
        "from tqdm import tqdm\n",
        "\n",
        "x, y = [], []\n",
        "\n",
        "with tqdm(total=df.shape[0], unit_scale=True) as pbar:\n",
        "    for ndx, row in df.iterrows():\n",
        "        text, label = row['text_es'], row['claim']\n",
        "        tokens = tokenizer.tokenize(text)\n",
        "        tokens = [\"[CLS]\"] + tokens + [\"[SEP]\"]\n",
        "        token_ids = tokenizer.convert_tokens_to_ids(tokens)\n",
        "        max_seq_len = max(max_seq_len, len(token_ids)) #peligroso, no os parece?\n",
        "        x.append(token_ids)\n",
        "        y.append(int(label))\n",
        "        pbar.update()"
      ],
      "execution_count": 88,
      "outputs": [
        {
          "output_type": "stream",
          "text": [
            "100%|██████████| 13.4k/13.4k [00:09<00:00, 1.47kit/s]\n"
          ],
          "name": "stderr"
        }
      ]
    },
    {
      "cell_type": "code",
      "metadata": {
        "colab": {
          "base_uri": "https://localhost:8080/"
        },
        "id": "zE7eK5yI2Oq4",
        "outputId": "925bd5e5-5b16-45ef-cdc5-31c9ce8d3b73"
      },
      "source": [
        "#casteamos a array para que no de problemas\n",
        "x = np.array(x)\n",
        "y = np.array(y)"
      ],
      "execution_count": 89,
      "outputs": [
        {
          "output_type": "stream",
          "text": [
            "/usr/local/lib/python3.7/dist-packages/ipykernel_launcher.py:1: VisibleDeprecationWarning: Creating an ndarray from ragged nested sequences (which is a list-or-tuple of lists-or-tuples-or ndarrays with different lengths or shapes) is deprecated. If you meant to do this, you must specify 'dtype=object' when creating the ndarray\n",
            "  \"\"\"Entry point for launching an IPython kernel.\n"
          ],
          "name": "stderr"
        }
      ]
    },
    {
      "cell_type": "code",
      "metadata": {
        "colab": {
          "base_uri": "https://localhost:8080/"
        },
        "id": "a0UWiYGO09-h",
        "outputId": "3bf86851-56f0-4ff2-ae07-7648eddae010"
      },
      "source": [
        "#confirmando que tokeniza correctamente el español\n",
        "tokenizer.tokenize('Eta fue una banda terrorista')"
      ],
      "execution_count": 90,
      "outputs": [
        {
          "output_type": "execute_result",
          "data": {
            "text/plain": [
              "['eta', 'fu', '##e', 'una', 'banda', 'terrorist', '##a']"
            ]
          },
          "metadata": {
            "tags": []
          },
          "execution_count": 90
        }
      ]
    },
    {
      "cell_type": "code",
      "metadata": {
        "id": "UqvKJOPq1M0z"
      },
      "source": [
        "#padding por la derecha\n",
        "x_, t = [], []\n",
        "token_type_ids = [0] * max_seq_len\n",
        "\n",
        "for input_ids in x:\n",
        "    input_ids = input_ids[:min(len(input_ids), max_seq_len - 2)]\n",
        "    input_ids = input_ids + [0] * (max_seq_len - len(input_ids))\n",
        "    x_.append(np.array(input_ids))\n",
        "    t.append(token_type_ids)\n",
        "\n",
        "x_ = np.array(x_)\n",
        "t = np.array(t)"
      ],
      "execution_count": 93,
      "outputs": []
    },
    {
      "cell_type": "code",
      "metadata": {
        "colab": {
          "base_uri": "https://localhost:8080/"
        },
        "id": "XGtrEQDGO_Lp",
        "outputId": "4510b8be-4ec4-4bdc-fb8b-eb9286415167"
      },
      "source": [
        "#creamos el modelo\n",
        "\n",
        "CD = ClaimDetection(bert_config_file, \n",
        "                       bert_ckpt_file, \n",
        "                       max_seq_len)\n",
        "\n",
        "CD.model.summary()"
      ],
      "execution_count": 138,
      "outputs": [
        {
          "output_type": "stream",
          "text": [
            "Done loading 196 BERT weights from: /content/drive/MyDrive/newtral/multi_cased_L-12_H-768_A-12/bert_model.ckpt into <bert.model.BertModelLayer object at 0x7f9e196862d0> (prefix:bert). Count of weights not found in the checkpoint was: [0]. Count of weights with mismatched shape: [0]\n",
            "Unused weights from checkpoint: \n",
            "\tbert/embeddings/token_type_embeddings\n",
            "\tbert/pooler/dense/bias\n",
            "\tbert/pooler/dense/kernel\n",
            "\tcls/predictions/output_bias\n",
            "\tcls/predictions/transform/LayerNorm/beta\n",
            "\tcls/predictions/transform/LayerNorm/gamma\n",
            "\tcls/predictions/transform/dense/bias\n",
            "\tcls/predictions/transform/dense/kernel\n",
            "\tcls/seq_relationship/output_bias\n",
            "\tcls/seq_relationship/output_weights\n",
            "Model: \"model_8\"\n",
            "_________________________________________________________________\n",
            "Layer (type)                 Output Shape              Param #   \n",
            "=================================================================\n",
            "input_ids (InputLayer)       [(None, 224)]             0         \n",
            "_________________________________________________________________\n",
            "bert (BertModelLayer)        (None, 224, 768)          177261312 \n",
            "_________________________________________________________________\n",
            "lambda_8 (Lambda)            (None, 768)               0         \n",
            "_________________________________________________________________\n",
            "dropout_82 (Dropout)         (None, 768)               0         \n",
            "_________________________________________________________________\n",
            "dense_8 (Dense)              (None, 2)                 1538      \n",
            "=================================================================\n",
            "Total params: 177,262,850\n",
            "Trainable params: 177,262,850\n",
            "Non-trainable params: 0\n",
            "_________________________________________________________________\n"
          ],
          "name": "stdout"
        }
      ]
    },
    {
      "cell_type": "code",
      "metadata": {
        "id": "d0gKXH0L1YR-"
      },
      "source": [
        "#Split de los datos\n",
        "train_ratio = 0.75\n",
        "validation_ratio = 0.15\n",
        "test_ratio = 0.10\n",
        "\n",
        "x_train, x_test, y_train, y_test = train_test_split(x_, y, test_size=1 - train_ratio)\n",
        "x_val, x_test, y_val, y_test = train_test_split(x_test, y_test, test_size=test_ratio/(test_ratio + validation_ratio)) "
      ],
      "execution_count": 97,
      "outputs": []
    },
    {
      "cell_type": "code",
      "metadata": {
        "colab": {
          "base_uri": "https://localhost:8080/"
        },
        "id": "pW9myE6o1NN0",
        "outputId": "9f71a6a6-9a53-40ec-a5b8-4f2707d3739d"
      },
      "source": [
        "#training(más de 1h)\n",
        "\n",
        "CD.train(x_train, y_train,\n",
        "         x_val, y_val,\n",
        "         'log',\n",
        "         max_epoch=10,\n",
        "         patience=1)"
      ],
      "execution_count": 98,
      "outputs": [
        {
          "output_type": "stream",
          "text": [
            "***** Model output directory: /bert_news *****\n",
            "Epoch 1/10\n",
            "630/630 [==============================] - 1460s 2s/step - loss: 0.3185 - acc: 0.9124 - val_loss: 0.2385 - val_acc: 0.9295\n",
            "Epoch 2/10\n",
            "630/630 [==============================] - 1435s 2s/step - loss: 0.2516 - acc: 0.9288 - val_loss: 0.2139 - val_acc: 0.9300\n",
            "Epoch 3/10\n",
            "630/630 [==============================] - 1444s 2s/step - loss: 0.2352 - acc: 0.9206 - val_loss: 0.2348 - val_acc: 0.9171\n"
          ],
          "name": "stdout"
        },
        {
          "output_type": "execute_result",
          "data": {
            "text/plain": [
              "<tensorflow.python.keras.callbacks.History at 0x7f9e23adf650>"
            ]
          },
          "metadata": {
            "tags": []
          },
          "execution_count": 98
        }
      ]
    },
    {
      "cell_type": "code",
      "metadata": {
        "id": "iDGf6e0J1NWF"
      },
      "source": [
        "CD.model.save_weights('claim_detection.h5', overwrite=True)"
      ],
      "execution_count": 100,
      "outputs": []
    },
    {
      "cell_type": "markdown",
      "metadata": {
        "id": "BLQoZID2Izrm"
      },
      "source": [
        "##3 - Métricas"
      ]
    },
    {
      "cell_type": "code",
      "metadata": {
        "colab": {
          "base_uri": "https://localhost:8080/"
        },
        "id": "oHAI6OuDIp3U",
        "outputId": "8aec2c0f-71de-49d2-fb80-f0287180787e"
      },
      "source": [
        "_, train_acc = CD.model.evaluate(x_train, y_train)\n",
        "_, val_acc = CD.model.evaluate(x_val, y_val)\n",
        "_, test_acc = CD.model.evaluate(x_test, y_test)\n",
        "\n",
        "print(\"train acc: \", train_acc)\n",
        "print(\"validation acc: \", val_acc)\n",
        "print(\"test acc: \", test_acc)"
      ],
      "execution_count": 101,
      "outputs": [
        {
          "output_type": "stream",
          "text": [
            "315/315 [==============================] - 307s 975ms/step - loss: 0.2089 - acc: 0.9277\n",
            "63/63 [==============================] - 62s 979ms/step - loss: 0.2139 - acc: 0.9300\n",
            "42/42 [==============================] - 42s 935ms/step - loss: 0.2147 - acc: 0.9263\n",
            "train acc:  0.9277347922325134\n",
            "validation acc:  0.9299900531768799\n",
            "test acc:  0.9263392686843872\n"
          ],
          "name": "stdout"
        }
      ]
    },
    {
      "cell_type": "code",
      "metadata": {
        "colab": {
          "base_uri": "https://localhost:8080/"
        },
        "id": "Iyhf8jpgI9K7",
        "outputId": "6b1df35c-96c7-4a0d-baa6-84646b2467b7"
      },
      "source": [
        "#Dado que el accuracy no es una métrica muy precisa con clases desbalanceadas pintamos la matriz de confusión de test\n",
        "#Como puede comprobarse los resultados son pésimos, la red aprende que la mejor estrategia para maximizar acc es predecir 0\n",
        "\n",
        "predictions = CD.model.predict(x_test)\n",
        "p_ = [np.argmax(i) for i in predictions]\n",
        "\n",
        "confusion_matrix(y_test, p_)"
      ],
      "execution_count": 131,
      "outputs": [
        {
          "output_type": "execute_result",
          "data": {
            "text/plain": [
              "array([[1242,    0],\n",
              "       [  99,    3]])"
            ]
          },
          "metadata": {
            "tags": []
          },
          "execution_count": 131
        }
      ]
    },
    {
      "cell_type": "code",
      "metadata": {
        "id": "VLRY0AhcOvtg"
      },
      "source": [
        ""
      ],
      "execution_count": null,
      "outputs": []
    }
  ]
}
